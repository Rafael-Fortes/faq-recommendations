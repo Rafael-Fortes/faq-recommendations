{
 "cells": [
  {
   "cell_type": "markdown",
   "metadata": {},
   "source": [
    "# FAQ recommendations\n",
    "\n",
    "This Jupyter Notebook conducts an evaluation of various approaches to develop an LLM algorithm capable of recommending solutions based on an F.A.Q. database and the conversation context between an agent and a client."
   ]
  },
  {
   "cell_type": "code",
   "execution_count": 1,
   "metadata": {},
   "outputs": [],
   "source": [
    "import pandas as pd\n",
    "import numpy as np\n",
    "import matplotlib.pyplot as plt"
   ]
  },
  {
   "cell_type": "markdown",
   "metadata": {},
   "source": [
    "# 1 handling the data"
   ]
  },
  {
   "cell_type": "markdown",
   "metadata": {},
   "source": [
    "## 1.1.0 Converting F.A.Q from .txt to .csv file"
   ]
  },
  {
   "cell_type": "code",
   "execution_count": 2,
   "metadata": {},
   "outputs": [],
   "source": [
    "def get_questions_and_answers(faq_path: str):\n",
    "    questions = []\n",
    "    answers = []\n",
    "\n",
    "    with open(faq_path, \"r\") as file:\n",
    "        for line in file.readlines():\n",
    "            if \"Pergunta\" in line:\n",
    "                question = line.lstrip(\"Pergunta: \").rstrip(\"\\n\")\n",
    "                questions.append(question)\n",
    "            elif \"Resposta\" in line:\n",
    "                answer = line.lstrip(\"Resposta: \").rstrip(\"\\n\")\n",
    "                answers.append(answer)\n",
    "    \n",
    "    return (questions, answers)\n",
    "\n",
    "\n",
    "def create_csv(questions: list, answers: list, destination_path: str, file_name: str):\n",
    "    faq_dict = {\n",
    "        \"Question\": questions,\n",
    "        \"Answer\": answers\n",
    "        }\n",
    "    \n",
    "    path = destination_path + file_name + \".csv\"\n",
    "\n",
    "    df = pd.DataFrame(data=faq_dict, dtype=object)\n",
    "    df.to_csv(path_or_buf=path, sep=\";\", index=False)"
   ]
  },
  {
   "cell_type": "code",
   "execution_count": 3,
   "metadata": {},
   "outputs": [],
   "source": [
    "questions, answers = get_questions_and_answers(faq_path=\"../data/raw/FAQ_example.txt\")\n",
    "create_csv(questions=questions, answers=answers, destination_path=\"../data/raw/\", file_name=\"FAQ_example\")"
   ]
  },
  {
   "cell_type": "markdown",
   "metadata": {},
   "source": [
    "# 2 Testing LLMs techniques"
   ]
  },
  {
   "cell_type": "markdown",
   "metadata": {},
   "source": [
    "## 2.1 Sentence Embeddings pretrained models"
   ]
  },
  {
   "cell_type": "code",
   "execution_count": 8,
   "metadata": {},
   "outputs": [],
   "source": [
    "from sentence_transformers import SentenceTransformer, util\n",
    "import spacy\n",
    "\n",
    "\n",
    "def get_greatest_similarities(model, dataframe, message):\n",
    "    questions_embeddings = model.encode(dataframe.Question)\n",
    "    message_embed = model.encode(message)\n",
    "\n",
    "    similarities = util.cos_sim(message_embed, questions_embeddings)[0].tolist()\n",
    "    greatest_similarities_index = pd.Series(similarities).sort_values(ascending=False).index\n",
    "    \n",
    "    return greatest_similarities_index\n",
    "\n",
    "\n",
    "def remove_stop_words(text:str):\n",
    "    nlp_model = spacy.load(\"pt_core_news_sm\")\n",
    "    text_tokens = nlp_model(text)\n",
    "\n",
    "    words_without_stopwords = []\n",
    "\n",
    "    for token in text_tokens:\n",
    "        if not token.is_stop:\n",
    "            words_without_stopwords.append(token.text)\n",
    "    \n",
    "    text_without_stopwords = \" \".join(words_without_stopwords)\n",
    "\n",
    "    return text_without_stopwords\n",
    "\n",
    "\n",
    "def get_sentence_embeddings(model, series):\n",
    "    \"\"\"\n",
    "        This function removes all 'stop words' for each sentence in a pandas.Series\n",
    "        and then creates a embed for the sentence without the stop words.\n",
    "    \"\"\"\n",
    "\n",
    "    text_embeddings = []\n",
    "\n",
    "    for text in series:\n",
    "        embed = model.encode(remove_stop_words(text))\n",
    "        text_embeddings.append(embed)\n",
    "    \n",
    "    return pd.Series(text_embeddings)"
   ]
  },
  {
   "cell_type": "code",
   "execution_count": 9,
   "metadata": {},
   "outputs": [
    {
     "data": {
      "text/html": [
       "<div>\n",
       "<style scoped>\n",
       "    .dataframe tbody tr th:only-of-type {\n",
       "        vertical-align: middle;\n",
       "    }\n",
       "\n",
       "    .dataframe tbody tr th {\n",
       "        vertical-align: top;\n",
       "    }\n",
       "\n",
       "    .dataframe thead th {\n",
       "        text-align: right;\n",
       "    }\n",
       "</style>\n",
       "<table border=\"1\" class=\"dataframe\">\n",
       "  <thead>\n",
       "    <tr style=\"text-align: right;\">\n",
       "      <th></th>\n",
       "      <th>Question</th>\n",
       "      <th>Answer</th>\n",
       "    </tr>\n",
       "  </thead>\n",
       "  <tbody>\n",
       "    <tr>\n",
       "      <th>0</th>\n",
       "      <td>Quais serviços a empresa de telecomunicações o...</td>\n",
       "      <td>Nossa empresa oferece serviços de telefonia fi...</td>\n",
       "    </tr>\n",
       "    <tr>\n",
       "      <th>1</th>\n",
       "      <td>Como posso contratar os serviços da empresa?</td>\n",
       "      <td>Para contratar nossos serviços, você pode entr...</td>\n",
       "    </tr>\n",
       "    <tr>\n",
       "      <th>2</th>\n",
       "      <td>Quais são os planos disponíveis para a telefon...</td>\n",
       "      <td>Temos diversos planos com diferentes franquias...</td>\n",
       "    </tr>\n",
       "  </tbody>\n",
       "</table>\n",
       "</div>"
      ],
      "text/plain": [
       "                                            Question  \\\n",
       "0  Quais serviços a empresa de telecomunicações o...   \n",
       "1       Como posso contratar os serviços da empresa?   \n",
       "2  Quais são os planos disponíveis para a telefon...   \n",
       "\n",
       "                                              Answer  \n",
       "0  Nossa empresa oferece serviços de telefonia fi...  \n",
       "1  Para contratar nossos serviços, você pode entr...  \n",
       "2  Temos diversos planos com diferentes franquias...  "
      ]
     },
     "execution_count": 9,
     "metadata": {},
     "output_type": "execute_result"
    }
   ],
   "source": [
    "df = pd.read_csv(\"../data/raw/FAQ_example.csv\", sep=\";\")\n",
    "df.head(3)"
   ]
  },
  {
   "cell_type": "code",
   "execution_count": 10,
   "metadata": {},
   "outputs": [
    {
     "name": "stdout",
     "output_type": "stream",
     "text": [
      "Eae , beleza ? asdasd gostaria melhorar plano ?\n"
     ]
    }
   ],
   "source": [
    "message = \"Eae, beleza? asdasd gostaria de saber se é possível melhorar meu plano?\"\n",
    "message = remove_stop_words(message)\n",
    "print(message)"
   ]
  },
  {
   "cell_type": "markdown",
   "metadata": {},
   "source": [
    "### 2.1.1 all-mpnet-base-v2 model"
   ]
  },
  {
   "cell_type": "code",
   "execution_count": 11,
   "metadata": {},
   "outputs": [
    {
     "name": "stdout",
     "output_type": "stream",
     "text": [
      "Eae , beleza ? asdasd gostaria melhorar plano ?\n"
     ]
    },
    {
     "data": {
      "text/html": [
       "<div>\n",
       "<style scoped>\n",
       "    .dataframe tbody tr th:only-of-type {\n",
       "        vertical-align: middle;\n",
       "    }\n",
       "\n",
       "    .dataframe tbody tr th {\n",
       "        vertical-align: top;\n",
       "    }\n",
       "\n",
       "    .dataframe thead th {\n",
       "        text-align: right;\n",
       "    }\n",
       "</style>\n",
       "<table border=\"1\" class=\"dataframe\">\n",
       "  <thead>\n",
       "    <tr style=\"text-align: right;\">\n",
       "      <th></th>\n",
       "      <th>Question</th>\n",
       "      <th>Answer</th>\n",
       "    </tr>\n",
       "  </thead>\n",
       "  <tbody>\n",
       "    <tr>\n",
       "      <th>3</th>\n",
       "      <td>A empresa oferece planos empresariais?</td>\n",
       "      <td>Sim, temos planos especiais para empresas, com...</td>\n",
       "    </tr>\n",
       "    <tr>\n",
       "      <th>7</th>\n",
       "      <td>A empresa oferece suporte técnico?</td>\n",
       "      <td>Sim, nossa empresa oferece suporte técnico esp...</td>\n",
       "    </tr>\n",
       "    <tr>\n",
       "      <th>2</th>\n",
       "      <td>Quais são os planos disponíveis para a telefon...</td>\n",
       "      <td>Temos diversos planos com diferentes franquias...</td>\n",
       "    </tr>\n",
       "    <tr>\n",
       "      <th>23</th>\n",
       "      <td>A empresa oferece serviço de fibra óptica?</td>\n",
       "      <td>Sim, nossa empresa oferece serviço de internet...</td>\n",
       "    </tr>\n",
       "    <tr>\n",
       "      <th>9</th>\n",
       "      <td>Como posso efetuar o pagamento da minha fatura?</td>\n",
       "      <td>Aceitamos diversos métodos de pagamento, inclu...</td>\n",
       "    </tr>\n",
       "    <tr>\n",
       "      <th>16</th>\n",
       "      <td>A empresa oferece atendimento em outros idioma...</td>\n",
       "      <td>No momento, nosso atendimento é realizado apen...</td>\n",
       "    </tr>\n",
       "    <tr>\n",
       "      <th>1</th>\n",
       "      <td>Como posso contratar os serviços da empresa?</td>\n",
       "      <td>Para contratar nossos serviços, você pode entr...</td>\n",
       "    </tr>\n",
       "    <tr>\n",
       "      <th>26</th>\n",
       "      <td>A empresa oferece serviços de telefonia VoIP?</td>\n",
       "      <td>Sim, oferecemos serviços de telefonia VoIP par...</td>\n",
       "    </tr>\n",
       "    <tr>\n",
       "      <th>19</th>\n",
       "      <td>A empresa oferece planos para clientes que uti...</td>\n",
       "      <td>Sim, temos planos com franquias de dados maior...</td>\n",
       "    </tr>\n",
       "    <tr>\n",
       "      <th>24</th>\n",
       "      <td>Como posso agendar a visita de um técnico para...</td>\n",
       "      <td>Você pode agendar a visita de um técnico entra...</td>\n",
       "    </tr>\n",
       "  </tbody>\n",
       "</table>\n",
       "</div>"
      ],
      "text/plain": [
       "                                             Question  \\\n",
       "3              A empresa oferece planos empresariais?   \n",
       "7                  A empresa oferece suporte técnico?   \n",
       "2   Quais são os planos disponíveis para a telefon...   \n",
       "23         A empresa oferece serviço de fibra óptica?   \n",
       "9     Como posso efetuar o pagamento da minha fatura?   \n",
       "16  A empresa oferece atendimento em outros idioma...   \n",
       "1        Como posso contratar os serviços da empresa?   \n",
       "26      A empresa oferece serviços de telefonia VoIP?   \n",
       "19  A empresa oferece planos para clientes que uti...   \n",
       "24  Como posso agendar a visita de um técnico para...   \n",
       "\n",
       "                                               Answer  \n",
       "3   Sim, temos planos especiais para empresas, com...  \n",
       "7   Sim, nossa empresa oferece suporte técnico esp...  \n",
       "2   Temos diversos planos com diferentes franquias...  \n",
       "23  Sim, nossa empresa oferece serviço de internet...  \n",
       "9   Aceitamos diversos métodos de pagamento, inclu...  \n",
       "16  No momento, nosso atendimento é realizado apen...  \n",
       "1   Para contratar nossos serviços, você pode entr...  \n",
       "26  Sim, oferecemos serviços de telefonia VoIP par...  \n",
       "19  Sim, temos planos com franquias de dados maior...  \n",
       "24  Você pode agendar a visita de um técnico entra...  "
      ]
     },
     "execution_count": 11,
     "metadata": {},
     "output_type": "execute_result"
    }
   ],
   "source": [
    "model = SentenceTransformer(\"all-mpnet-base-v2\")\n",
    "\n",
    "print(message)\n",
    "df.iloc[get_greatest_similarities(model, df, message)].head(10)"
   ]
  },
  {
   "cell_type": "markdown",
   "metadata": {},
   "source": [
    "### 2.1.2 multi-qa-mpnet-base-dot-v1"
   ]
  },
  {
   "cell_type": "code",
   "execution_count": 12,
   "metadata": {},
   "outputs": [
    {
     "name": "stdout",
     "output_type": "stream",
     "text": [
      "Eae , beleza ? asdasd gostaria melhorar plano ?\n"
     ]
    },
    {
     "data": {
      "text/html": [
       "<div>\n",
       "<style scoped>\n",
       "    .dataframe tbody tr th:only-of-type {\n",
       "        vertical-align: middle;\n",
       "    }\n",
       "\n",
       "    .dataframe tbody tr th {\n",
       "        vertical-align: top;\n",
       "    }\n",
       "\n",
       "    .dataframe thead th {\n",
       "        text-align: right;\n",
       "    }\n",
       "</style>\n",
       "<table border=\"1\" class=\"dataframe\">\n",
       "  <thead>\n",
       "    <tr style=\"text-align: right;\">\n",
       "      <th></th>\n",
       "      <th>Question</th>\n",
       "      <th>Answer</th>\n",
       "    </tr>\n",
       "  </thead>\n",
       "  <tbody>\n",
       "    <tr>\n",
       "      <th>3</th>\n",
       "      <td>A empresa oferece planos empresariais?</td>\n",
       "      <td>Sim, temos planos especiais para empresas, com...</td>\n",
       "    </tr>\n",
       "    <tr>\n",
       "      <th>2</th>\n",
       "      <td>Quais são os planos disponíveis para a telefon...</td>\n",
       "      <td>Temos diversos planos com diferentes franquias...</td>\n",
       "    </tr>\n",
       "    <tr>\n",
       "      <th>16</th>\n",
       "      <td>A empresa oferece atendimento em outros idioma...</td>\n",
       "      <td>No momento, nosso atendimento é realizado apen...</td>\n",
       "    </tr>\n",
       "    <tr>\n",
       "      <th>9</th>\n",
       "      <td>Como posso efetuar o pagamento da minha fatura?</td>\n",
       "      <td>Aceitamos diversos métodos de pagamento, inclu...</td>\n",
       "    </tr>\n",
       "    <tr>\n",
       "      <th>26</th>\n",
       "      <td>A empresa oferece serviços de telefonia VoIP?</td>\n",
       "      <td>Sim, oferecemos serviços de telefonia VoIP par...</td>\n",
       "    </tr>\n",
       "    <tr>\n",
       "      <th>1</th>\n",
       "      <td>Como posso contratar os serviços da empresa?</td>\n",
       "      <td>Para contratar nossos serviços, você pode entr...</td>\n",
       "    </tr>\n",
       "    <tr>\n",
       "      <th>12</th>\n",
       "      <td>O que fazer em caso de falha no serviço de int...</td>\n",
       "      <td>Em caso de falha no serviço, entre em contato ...</td>\n",
       "    </tr>\n",
       "    <tr>\n",
       "      <th>21</th>\n",
       "      <td>A empresa disponibiliza serviços de telefonia ...</td>\n",
       "      <td>Sim, oferecemos opções para ligações internaci...</td>\n",
       "    </tr>\n",
       "    <tr>\n",
       "      <th>7</th>\n",
       "      <td>A empresa oferece suporte técnico?</td>\n",
       "      <td>Sim, nossa empresa oferece suporte técnico esp...</td>\n",
       "    </tr>\n",
       "    <tr>\n",
       "      <th>6</th>\n",
       "      <td>Como posso verificar a cobertura de internet n...</td>\n",
       "      <td>Para verificar a cobertura de internet em sua ...</td>\n",
       "    </tr>\n",
       "  </tbody>\n",
       "</table>\n",
       "</div>"
      ],
      "text/plain": [
       "                                             Question  \\\n",
       "3              A empresa oferece planos empresariais?   \n",
       "2   Quais são os planos disponíveis para a telefon...   \n",
       "16  A empresa oferece atendimento em outros idioma...   \n",
       "9     Como posso efetuar o pagamento da minha fatura?   \n",
       "26      A empresa oferece serviços de telefonia VoIP?   \n",
       "1        Como posso contratar os serviços da empresa?   \n",
       "12  O que fazer em caso de falha no serviço de int...   \n",
       "21  A empresa disponibiliza serviços de telefonia ...   \n",
       "7                  A empresa oferece suporte técnico?   \n",
       "6   Como posso verificar a cobertura de internet n...   \n",
       "\n",
       "                                               Answer  \n",
       "3   Sim, temos planos especiais para empresas, com...  \n",
       "2   Temos diversos planos com diferentes franquias...  \n",
       "16  No momento, nosso atendimento é realizado apen...  \n",
       "9   Aceitamos diversos métodos de pagamento, inclu...  \n",
       "26  Sim, oferecemos serviços de telefonia VoIP par...  \n",
       "1   Para contratar nossos serviços, você pode entr...  \n",
       "12  Em caso de falha no serviço, entre em contato ...  \n",
       "21  Sim, oferecemos opções para ligações internaci...  \n",
       "7   Sim, nossa empresa oferece suporte técnico esp...  \n",
       "6   Para verificar a cobertura de internet em sua ...  "
      ]
     },
     "execution_count": 12,
     "metadata": {},
     "output_type": "execute_result"
    }
   ],
   "source": [
    "model = SentenceTransformer(\"multi-qa-mpnet-base-dot-v1\")\n",
    "\n",
    "print(message)\n",
    "df.iloc[get_greatest_similarities(model, df, message)].head(10)"
   ]
  },
  {
   "cell_type": "markdown",
   "metadata": {},
   "source": [
    "### 2.1.3 all-distilroberta-v1 model"
   ]
  },
  {
   "cell_type": "code",
   "execution_count": 13,
   "metadata": {},
   "outputs": [
    {
     "name": "stdout",
     "output_type": "stream",
     "text": [
      "Eae , beleza ? asdasd gostaria melhorar plano ?\n"
     ]
    },
    {
     "data": {
      "text/html": [
       "<div>\n",
       "<style scoped>\n",
       "    .dataframe tbody tr th:only-of-type {\n",
       "        vertical-align: middle;\n",
       "    }\n",
       "\n",
       "    .dataframe tbody tr th {\n",
       "        vertical-align: top;\n",
       "    }\n",
       "\n",
       "    .dataframe thead th {\n",
       "        text-align: right;\n",
       "    }\n",
       "</style>\n",
       "<table border=\"1\" class=\"dataframe\">\n",
       "  <thead>\n",
       "    <tr style=\"text-align: right;\">\n",
       "      <th></th>\n",
       "      <th>Question</th>\n",
       "      <th>Answer</th>\n",
       "    </tr>\n",
       "  </thead>\n",
       "  <tbody>\n",
       "    <tr>\n",
       "      <th>3</th>\n",
       "      <td>A empresa oferece planos empresariais?</td>\n",
       "      <td>Sim, temos planos especiais para empresas, com...</td>\n",
       "    </tr>\n",
       "    <tr>\n",
       "      <th>2</th>\n",
       "      <td>Quais são os planos disponíveis para a telefon...</td>\n",
       "      <td>Temos diversos planos com diferentes franquias...</td>\n",
       "    </tr>\n",
       "    <tr>\n",
       "      <th>19</th>\n",
       "      <td>A empresa oferece planos para clientes que uti...</td>\n",
       "      <td>Sim, temos planos com franquias de dados maior...</td>\n",
       "    </tr>\n",
       "    <tr>\n",
       "      <th>9</th>\n",
       "      <td>Como posso efetuar o pagamento da minha fatura?</td>\n",
       "      <td>Aceitamos diversos métodos de pagamento, inclu...</td>\n",
       "    </tr>\n",
       "    <tr>\n",
       "      <th>10</th>\n",
       "      <td>É possível fazer upgrade ou downgrade nos plan...</td>\n",
       "      <td>Sim, você pode fazer o upgrade ou downgrade do...</td>\n",
       "    </tr>\n",
       "    <tr>\n",
       "      <th>7</th>\n",
       "      <td>A empresa oferece suporte técnico?</td>\n",
       "      <td>Sim, nossa empresa oferece suporte técnico esp...</td>\n",
       "    </tr>\n",
       "    <tr>\n",
       "      <th>16</th>\n",
       "      <td>A empresa oferece atendimento em outros idioma...</td>\n",
       "      <td>No momento, nosso atendimento é realizado apen...</td>\n",
       "    </tr>\n",
       "    <tr>\n",
       "      <th>6</th>\n",
       "      <td>Como posso verificar a cobertura de internet n...</td>\n",
       "      <td>Para verificar a cobertura de internet em sua ...</td>\n",
       "    </tr>\n",
       "    <tr>\n",
       "      <th>20</th>\n",
       "      <td>Quais são os benefícios de ser um cliente de l...</td>\n",
       "      <td>Oferecemos programas de fidelidade e benefício...</td>\n",
       "    </tr>\n",
       "    <tr>\n",
       "      <th>5</th>\n",
       "      <td>É possível fazer a portabilidade do meu número...</td>\n",
       "      <td>Sim, é possível fazer a portabilidade do seu n...</td>\n",
       "    </tr>\n",
       "  </tbody>\n",
       "</table>\n",
       "</div>"
      ],
      "text/plain": [
       "                                             Question  \\\n",
       "3              A empresa oferece planos empresariais?   \n",
       "2   Quais são os planos disponíveis para a telefon...   \n",
       "19  A empresa oferece planos para clientes que uti...   \n",
       "9     Como posso efetuar o pagamento da minha fatura?   \n",
       "10  É possível fazer upgrade ou downgrade nos plan...   \n",
       "7                  A empresa oferece suporte técnico?   \n",
       "16  A empresa oferece atendimento em outros idioma...   \n",
       "6   Como posso verificar a cobertura de internet n...   \n",
       "20  Quais são os benefícios de ser um cliente de l...   \n",
       "5   É possível fazer a portabilidade do meu número...   \n",
       "\n",
       "                                               Answer  \n",
       "3   Sim, temos planos especiais para empresas, com...  \n",
       "2   Temos diversos planos com diferentes franquias...  \n",
       "19  Sim, temos planos com franquias de dados maior...  \n",
       "9   Aceitamos diversos métodos de pagamento, inclu...  \n",
       "10  Sim, você pode fazer o upgrade ou downgrade do...  \n",
       "7   Sim, nossa empresa oferece suporte técnico esp...  \n",
       "16  No momento, nosso atendimento é realizado apen...  \n",
       "6   Para verificar a cobertura de internet em sua ...  \n",
       "20  Oferecemos programas de fidelidade e benefício...  \n",
       "5   Sim, é possível fazer a portabilidade do seu n...  "
      ]
     },
     "execution_count": 13,
     "metadata": {},
     "output_type": "execute_result"
    }
   ],
   "source": [
    "model = SentenceTransformer(\"all-distilroberta-v1\")\n",
    "\n",
    "print(message)\n",
    "df.iloc[get_greatest_similarities(model, df, message)].head(10)"
   ]
  },
  {
   "cell_type": "markdown",
   "metadata": {},
   "source": [
    "### 2.1.4 all-MiniLM-L6-v2 model"
   ]
  },
  {
   "cell_type": "code",
   "execution_count": 14,
   "metadata": {},
   "outputs": [
    {
     "name": "stdout",
     "output_type": "stream",
     "text": [
      "Eae , beleza ? asdasd gostaria melhorar plano ?\n"
     ]
    },
    {
     "data": {
      "text/html": [
       "<div>\n",
       "<style scoped>\n",
       "    .dataframe tbody tr th:only-of-type {\n",
       "        vertical-align: middle;\n",
       "    }\n",
       "\n",
       "    .dataframe tbody tr th {\n",
       "        vertical-align: top;\n",
       "    }\n",
       "\n",
       "    .dataframe thead th {\n",
       "        text-align: right;\n",
       "    }\n",
       "</style>\n",
       "<table border=\"1\" class=\"dataframe\">\n",
       "  <thead>\n",
       "    <tr style=\"text-align: right;\">\n",
       "      <th></th>\n",
       "      <th>Question</th>\n",
       "      <th>Answer</th>\n",
       "    </tr>\n",
       "  </thead>\n",
       "  <tbody>\n",
       "    <tr>\n",
       "      <th>5</th>\n",
       "      <td>É possível fazer a portabilidade do meu número...</td>\n",
       "      <td>Sim, é possível fazer a portabilidade do seu n...</td>\n",
       "    </tr>\n",
       "    <tr>\n",
       "      <th>2</th>\n",
       "      <td>Quais são os planos disponíveis para a telefon...</td>\n",
       "      <td>Temos diversos planos com diferentes franquias...</td>\n",
       "    </tr>\n",
       "    <tr>\n",
       "      <th>16</th>\n",
       "      <td>A empresa oferece atendimento em outros idioma...</td>\n",
       "      <td>No momento, nosso atendimento é realizado apen...</td>\n",
       "    </tr>\n",
       "    <tr>\n",
       "      <th>10</th>\n",
       "      <td>É possível fazer upgrade ou downgrade nos plan...</td>\n",
       "      <td>Sim, você pode fazer o upgrade ou downgrade do...</td>\n",
       "    </tr>\n",
       "    <tr>\n",
       "      <th>23</th>\n",
       "      <td>A empresa oferece serviço de fibra óptica?</td>\n",
       "      <td>Sim, nossa empresa oferece serviço de internet...</td>\n",
       "    </tr>\n",
       "    <tr>\n",
       "      <th>27</th>\n",
       "      <td>Como posso acompanhar o status de uma solicita...</td>\n",
       "      <td>Você pode acompanhar o status de suas solicita...</td>\n",
       "    </tr>\n",
       "    <tr>\n",
       "      <th>7</th>\n",
       "      <td>A empresa oferece suporte técnico?</td>\n",
       "      <td>Sim, nossa empresa oferece suporte técnico esp...</td>\n",
       "    </tr>\n",
       "    <tr>\n",
       "      <th>19</th>\n",
       "      <td>A empresa oferece planos para clientes que uti...</td>\n",
       "      <td>Sim, temos planos com franquias de dados maior...</td>\n",
       "    </tr>\n",
       "    <tr>\n",
       "      <th>14</th>\n",
       "      <td>A empresa oferece roteadores e equipamentos pa...</td>\n",
       "      <td>Sim, fornecemos equipamentos para internet em ...</td>\n",
       "    </tr>\n",
       "    <tr>\n",
       "      <th>3</th>\n",
       "      <td>A empresa oferece planos empresariais?</td>\n",
       "      <td>Sim, temos planos especiais para empresas, com...</td>\n",
       "    </tr>\n",
       "  </tbody>\n",
       "</table>\n",
       "</div>"
      ],
      "text/plain": [
       "                                             Question  \\\n",
       "5   É possível fazer a portabilidade do meu número...   \n",
       "2   Quais são os planos disponíveis para a telefon...   \n",
       "16  A empresa oferece atendimento em outros idioma...   \n",
       "10  É possível fazer upgrade ou downgrade nos plan...   \n",
       "23         A empresa oferece serviço de fibra óptica?   \n",
       "27  Como posso acompanhar o status de uma solicita...   \n",
       "7                  A empresa oferece suporte técnico?   \n",
       "19  A empresa oferece planos para clientes que uti...   \n",
       "14  A empresa oferece roteadores e equipamentos pa...   \n",
       "3              A empresa oferece planos empresariais?   \n",
       "\n",
       "                                               Answer  \n",
       "5   Sim, é possível fazer a portabilidade do seu n...  \n",
       "2   Temos diversos planos com diferentes franquias...  \n",
       "16  No momento, nosso atendimento é realizado apen...  \n",
       "10  Sim, você pode fazer o upgrade ou downgrade do...  \n",
       "23  Sim, nossa empresa oferece serviço de internet...  \n",
       "27  Você pode acompanhar o status de suas solicita...  \n",
       "7   Sim, nossa empresa oferece suporte técnico esp...  \n",
       "19  Sim, temos planos com franquias de dados maior...  \n",
       "14  Sim, fornecemos equipamentos para internet em ...  \n",
       "3   Sim, temos planos especiais para empresas, com...  "
      ]
     },
     "execution_count": 14,
     "metadata": {},
     "output_type": "execute_result"
    }
   ],
   "source": [
    "model = SentenceTransformer(\"all-MiniLM-L6-v2\")\n",
    "\n",
    "print(message)\n",
    "df.iloc[get_greatest_similarities(model, df, message)].head(10)"
   ]
  },
  {
   "cell_type": "markdown",
   "metadata": {},
   "source": [
    "### 2.1.5 multi-qa-MiniLM-L6-cos-v1"
   ]
  },
  {
   "cell_type": "code",
   "execution_count": 15,
   "metadata": {},
   "outputs": [
    {
     "name": "stdout",
     "output_type": "stream",
     "text": [
      "Eae , beleza ? asdasd gostaria melhorar plano ?\n"
     ]
    },
    {
     "data": {
      "text/html": [
       "<div>\n",
       "<style scoped>\n",
       "    .dataframe tbody tr th:only-of-type {\n",
       "        vertical-align: middle;\n",
       "    }\n",
       "\n",
       "    .dataframe tbody tr th {\n",
       "        vertical-align: top;\n",
       "    }\n",
       "\n",
       "    .dataframe thead th {\n",
       "        text-align: right;\n",
       "    }\n",
       "</style>\n",
       "<table border=\"1\" class=\"dataframe\">\n",
       "  <thead>\n",
       "    <tr style=\"text-align: right;\">\n",
       "      <th></th>\n",
       "      <th>Question</th>\n",
       "      <th>Answer</th>\n",
       "    </tr>\n",
       "  </thead>\n",
       "  <tbody>\n",
       "    <tr>\n",
       "      <th>7</th>\n",
       "      <td>A empresa oferece suporte técnico?</td>\n",
       "      <td>Sim, nossa empresa oferece suporte técnico esp...</td>\n",
       "    </tr>\n",
       "    <tr>\n",
       "      <th>19</th>\n",
       "      <td>A empresa oferece planos para clientes que uti...</td>\n",
       "      <td>Sim, temos planos com franquias de dados maior...</td>\n",
       "    </tr>\n",
       "    <tr>\n",
       "      <th>27</th>\n",
       "      <td>Como posso acompanhar o status de uma solicita...</td>\n",
       "      <td>Você pode acompanhar o status de suas solicita...</td>\n",
       "    </tr>\n",
       "    <tr>\n",
       "      <th>3</th>\n",
       "      <td>A empresa oferece planos empresariais?</td>\n",
       "      <td>Sim, temos planos especiais para empresas, com...</td>\n",
       "    </tr>\n",
       "    <tr>\n",
       "      <th>5</th>\n",
       "      <td>É possível fazer a portabilidade do meu número...</td>\n",
       "      <td>Sim, é possível fazer a portabilidade do seu n...</td>\n",
       "    </tr>\n",
       "    <tr>\n",
       "      <th>22</th>\n",
       "      <td>É possível obter um número de telefone fixo em...</td>\n",
       "      <td>Sim, você pode contratar um número de telefone...</td>\n",
       "    </tr>\n",
       "    <tr>\n",
       "      <th>25</th>\n",
       "      <td>Quais são as opções de pacotes de TV por assin...</td>\n",
       "      <td>Temos diferentes pacotes de TV por assinatura ...</td>\n",
       "    </tr>\n",
       "    <tr>\n",
       "      <th>10</th>\n",
       "      <td>É possível fazer upgrade ou downgrade nos plan...</td>\n",
       "      <td>Sim, você pode fazer o upgrade ou downgrade do...</td>\n",
       "    </tr>\n",
       "    <tr>\n",
       "      <th>11</th>\n",
       "      <td>A empresa oferece descontos para pacotes combi...</td>\n",
       "      <td>Sim, oferecemos descontos especiais para clien...</td>\n",
       "    </tr>\n",
       "    <tr>\n",
       "      <th>9</th>\n",
       "      <td>Como posso efetuar o pagamento da minha fatura?</td>\n",
       "      <td>Aceitamos diversos métodos de pagamento, inclu...</td>\n",
       "    </tr>\n",
       "  </tbody>\n",
       "</table>\n",
       "</div>"
      ],
      "text/plain": [
       "                                             Question  \\\n",
       "7                  A empresa oferece suporte técnico?   \n",
       "19  A empresa oferece planos para clientes que uti...   \n",
       "27  Como posso acompanhar o status de uma solicita...   \n",
       "3              A empresa oferece planos empresariais?   \n",
       "5   É possível fazer a portabilidade do meu número...   \n",
       "22  É possível obter um número de telefone fixo em...   \n",
       "25  Quais são as opções de pacotes de TV por assin...   \n",
       "10  É possível fazer upgrade ou downgrade nos plan...   \n",
       "11  A empresa oferece descontos para pacotes combi...   \n",
       "9     Como posso efetuar o pagamento da minha fatura?   \n",
       "\n",
       "                                               Answer  \n",
       "7   Sim, nossa empresa oferece suporte técnico esp...  \n",
       "19  Sim, temos planos com franquias de dados maior...  \n",
       "27  Você pode acompanhar o status de suas solicita...  \n",
       "3   Sim, temos planos especiais para empresas, com...  \n",
       "5   Sim, é possível fazer a portabilidade do seu n...  \n",
       "22  Sim, você pode contratar um número de telefone...  \n",
       "25  Temos diferentes pacotes de TV por assinatura ...  \n",
       "10  Sim, você pode fazer o upgrade ou downgrade do...  \n",
       "11  Sim, oferecemos descontos especiais para clien...  \n",
       "9   Aceitamos diversos métodos de pagamento, inclu...  "
      ]
     },
     "execution_count": 15,
     "metadata": {},
     "output_type": "execute_result"
    }
   ],
   "source": [
    "model = SentenceTransformer(\"multi-qa-MiniLM-L6-cos-v1\")\n",
    "\n",
    "print(message)\n",
    "df.iloc[get_greatest_similarities(model, df, message)].head(10)"
   ]
  },
  {
   "cell_type": "markdown",
   "metadata": {},
   "source": [
    "### 2.1.6 msmarco-distilbert-base-v4"
   ]
  },
  {
   "cell_type": "code",
   "execution_count": 16,
   "metadata": {},
   "outputs": [
    {
     "name": "stdout",
     "output_type": "stream",
     "text": [
      "Eae , beleza ? asdasd gostaria melhorar plano ?\n"
     ]
    },
    {
     "data": {
      "text/html": [
       "<div>\n",
       "<style scoped>\n",
       "    .dataframe tbody tr th:only-of-type {\n",
       "        vertical-align: middle;\n",
       "    }\n",
       "\n",
       "    .dataframe tbody tr th {\n",
       "        vertical-align: top;\n",
       "    }\n",
       "\n",
       "    .dataframe thead th {\n",
       "        text-align: right;\n",
       "    }\n",
       "</style>\n",
       "<table border=\"1\" class=\"dataframe\">\n",
       "  <thead>\n",
       "    <tr style=\"text-align: right;\">\n",
       "      <th></th>\n",
       "      <th>Question</th>\n",
       "      <th>Answer</th>\n",
       "    </tr>\n",
       "  </thead>\n",
       "  <tbody>\n",
       "    <tr>\n",
       "      <th>3</th>\n",
       "      <td>A empresa oferece planos empresariais?</td>\n",
       "      <td>Sim, temos planos especiais para empresas, com...</td>\n",
       "    </tr>\n",
       "    <tr>\n",
       "      <th>5</th>\n",
       "      <td>É possível fazer a portabilidade do meu número...</td>\n",
       "      <td>Sim, é possível fazer a portabilidade do seu n...</td>\n",
       "    </tr>\n",
       "    <tr>\n",
       "      <th>9</th>\n",
       "      <td>Como posso efetuar o pagamento da minha fatura?</td>\n",
       "      <td>Aceitamos diversos métodos de pagamento, inclu...</td>\n",
       "    </tr>\n",
       "    <tr>\n",
       "      <th>1</th>\n",
       "      <td>Como posso contratar os serviços da empresa?</td>\n",
       "      <td>Para contratar nossos serviços, você pode entr...</td>\n",
       "    </tr>\n",
       "    <tr>\n",
       "      <th>26</th>\n",
       "      <td>A empresa oferece serviços de telefonia VoIP?</td>\n",
       "      <td>Sim, oferecemos serviços de telefonia VoIP par...</td>\n",
       "    </tr>\n",
       "    <tr>\n",
       "      <th>12</th>\n",
       "      <td>O que fazer em caso de falha no serviço de int...</td>\n",
       "      <td>Em caso de falha no serviço, entre em contato ...</td>\n",
       "    </tr>\n",
       "    <tr>\n",
       "      <th>17</th>\n",
       "      <td>Como posso solicitar a mudança de endereço dos...</td>\n",
       "      <td>Entre em contato com nosso atendimento para so...</td>\n",
       "    </tr>\n",
       "    <tr>\n",
       "      <th>8</th>\n",
       "      <td>osso fazer a contratação de serviços adicionai...</td>\n",
       "      <td>Sim, você pode personalizar seu pacote de TV p...</td>\n",
       "    </tr>\n",
       "    <tr>\n",
       "      <th>22</th>\n",
       "      <td>É possível obter um número de telefone fixo em...</td>\n",
       "      <td>Sim, você pode contratar um número de telefone...</td>\n",
       "    </tr>\n",
       "    <tr>\n",
       "      <th>11</th>\n",
       "      <td>A empresa oferece descontos para pacotes combi...</td>\n",
       "      <td>Sim, oferecemos descontos especiais para clien...</td>\n",
       "    </tr>\n",
       "  </tbody>\n",
       "</table>\n",
       "</div>"
      ],
      "text/plain": [
       "                                             Question  \\\n",
       "3              A empresa oferece planos empresariais?   \n",
       "5   É possível fazer a portabilidade do meu número...   \n",
       "9     Como posso efetuar o pagamento da minha fatura?   \n",
       "1        Como posso contratar os serviços da empresa?   \n",
       "26      A empresa oferece serviços de telefonia VoIP?   \n",
       "12  O que fazer em caso de falha no serviço de int...   \n",
       "17  Como posso solicitar a mudança de endereço dos...   \n",
       "8   osso fazer a contratação de serviços adicionai...   \n",
       "22  É possível obter um número de telefone fixo em...   \n",
       "11  A empresa oferece descontos para pacotes combi...   \n",
       "\n",
       "                                               Answer  \n",
       "3   Sim, temos planos especiais para empresas, com...  \n",
       "5   Sim, é possível fazer a portabilidade do seu n...  \n",
       "9   Aceitamos diversos métodos de pagamento, inclu...  \n",
       "1   Para contratar nossos serviços, você pode entr...  \n",
       "26  Sim, oferecemos serviços de telefonia VoIP par...  \n",
       "12  Em caso de falha no serviço, entre em contato ...  \n",
       "17  Entre em contato com nosso atendimento para so...  \n",
       "8   Sim, você pode personalizar seu pacote de TV p...  \n",
       "22  Sim, você pode contratar um número de telefone...  \n",
       "11  Sim, oferecemos descontos especiais para clien...  "
      ]
     },
     "execution_count": 16,
     "metadata": {},
     "output_type": "execute_result"
    }
   ],
   "source": [
    "model = SentenceTransformer(\"msmarco-distilbert-base-v4\")\n",
    "\n",
    "print(message)\n",
    "df.iloc[get_greatest_similarities(model, df, message)].head(10)"
   ]
  },
  {
   "cell_type": "markdown",
   "metadata": {},
   "source": [
    "# 3 Preparing to Deploy"
   ]
  },
  {
   "cell_type": "code",
   "execution_count": 17,
   "metadata": {},
   "outputs": [],
   "source": [
    "embeddings_model = SentenceTransformer(\"msmarco-distilbert-base-v4\")\n",
    "nlp_model = spacy.load(\"pt_core_news_sm\")"
   ]
  },
  {
   "cell_type": "code",
   "execution_count": 18,
   "metadata": {},
   "outputs": [
    {
     "data": {
      "text/html": [
       "<div>\n",
       "<style scoped>\n",
       "    .dataframe tbody tr th:only-of-type {\n",
       "        vertical-align: middle;\n",
       "    }\n",
       "\n",
       "    .dataframe tbody tr th {\n",
       "        vertical-align: top;\n",
       "    }\n",
       "\n",
       "    .dataframe thead th {\n",
       "        text-align: right;\n",
       "    }\n",
       "</style>\n",
       "<table border=\"1\" class=\"dataframe\">\n",
       "  <thead>\n",
       "    <tr style=\"text-align: right;\">\n",
       "      <th></th>\n",
       "      <th>Question</th>\n",
       "      <th>Answer</th>\n",
       "    </tr>\n",
       "  </thead>\n",
       "  <tbody>\n",
       "    <tr>\n",
       "      <th>0</th>\n",
       "      <td>Quais serviços a empresa de telecomunicações o...</td>\n",
       "      <td>Nossa empresa oferece serviços de telefonia fi...</td>\n",
       "    </tr>\n",
       "    <tr>\n",
       "      <th>1</th>\n",
       "      <td>Como posso contratar os serviços da empresa?</td>\n",
       "      <td>Para contratar nossos serviços, você pode entr...</td>\n",
       "    </tr>\n",
       "    <tr>\n",
       "      <th>2</th>\n",
       "      <td>Quais são os planos disponíveis para a telefon...</td>\n",
       "      <td>Temos diversos planos com diferentes franquias...</td>\n",
       "    </tr>\n",
       "  </tbody>\n",
       "</table>\n",
       "</div>"
      ],
      "text/plain": [
       "                                            Question  \\\n",
       "0  Quais serviços a empresa de telecomunicações o...   \n",
       "1       Como posso contratar os serviços da empresa?   \n",
       "2  Quais são os planos disponíveis para a telefon...   \n",
       "\n",
       "                                              Answer  \n",
       "0  Nossa empresa oferece serviços de telefonia fi...  \n",
       "1  Para contratar nossos serviços, você pode entr...  \n",
       "2  Temos diversos planos com diferentes franquias...  "
      ]
     },
     "execution_count": 18,
     "metadata": {},
     "output_type": "execute_result"
    }
   ],
   "source": [
    "df = pd.read_csv(\"../data/raw/FAQ_example.csv\", sep=\";\")\n",
    "df.head(3)"
   ]
  },
  {
   "cell_type": "markdown",
   "metadata": {},
   "source": [
    "## 3.1 Preparing Data"
   ]
  },
  {
   "cell_type": "markdown",
   "metadata": {},
   "source": [
    "### 3.1.1 Creating Embeddings for each question and exporting as CSV file"
   ]
  },
  {
   "cell_type": "code",
   "execution_count": 19,
   "metadata": {},
   "outputs": [
    {
     "data": {
      "text/html": [
       "<div>\n",
       "<style scoped>\n",
       "    .dataframe tbody tr th:only-of-type {\n",
       "        vertical-align: middle;\n",
       "    }\n",
       "\n",
       "    .dataframe tbody tr th {\n",
       "        vertical-align: top;\n",
       "    }\n",
       "\n",
       "    .dataframe thead th {\n",
       "        text-align: right;\n",
       "    }\n",
       "</style>\n",
       "<table border=\"1\" class=\"dataframe\">\n",
       "  <thead>\n",
       "    <tr style=\"text-align: right;\">\n",
       "      <th></th>\n",
       "      <th>Question</th>\n",
       "      <th>Answer</th>\n",
       "      <th>Embed</th>\n",
       "    </tr>\n",
       "  </thead>\n",
       "  <tbody>\n",
       "    <tr>\n",
       "      <th>0</th>\n",
       "      <td>Quais serviços a empresa de telecomunicações o...</td>\n",
       "      <td>Nossa empresa oferece serviços de telefonia fi...</td>\n",
       "      <td>[0.14452851, 0.47506136, 0.41753554, 0.4711151...</td>\n",
       "    </tr>\n",
       "    <tr>\n",
       "      <th>1</th>\n",
       "      <td>Como posso contratar os serviços da empresa?</td>\n",
       "      <td>Para contratar nossos serviços, você pode entr...</td>\n",
       "      <td>[0.42457744, 0.5177769, 0.44591, 0.24994455, 0...</td>\n",
       "    </tr>\n",
       "    <tr>\n",
       "      <th>2</th>\n",
       "      <td>Quais são os planos disponíveis para a telefon...</td>\n",
       "      <td>Temos diversos planos com diferentes franquias...</td>\n",
       "      <td>[-0.031586308, -0.73177123, 0.7692423, -0.2273...</td>\n",
       "    </tr>\n",
       "    <tr>\n",
       "      <th>3</th>\n",
       "      <td>A empresa oferece planos empresariais?</td>\n",
       "      <td>Sim, temos planos especiais para empresas, com...</td>\n",
       "      <td>[-0.0010527153, -0.0926021, 0.49267933, 0.0030...</td>\n",
       "    </tr>\n",
       "    <tr>\n",
       "      <th>4</th>\n",
       "      <td>Quais são as velocidades de internet oferecidas?</td>\n",
       "      <td>Nossos planos de internet oferecem diferentes ...</td>\n",
       "      <td>[-0.3037833, 0.21465948, 0.014317498, 0.404929...</td>\n",
       "    </tr>\n",
       "  </tbody>\n",
       "</table>\n",
       "</div>"
      ],
      "text/plain": [
       "                                            Question  \\\n",
       "0  Quais serviços a empresa de telecomunicações o...   \n",
       "1       Como posso contratar os serviços da empresa?   \n",
       "2  Quais são os planos disponíveis para a telefon...   \n",
       "3             A empresa oferece planos empresariais?   \n",
       "4   Quais são as velocidades de internet oferecidas?   \n",
       "\n",
       "                                              Answer  \\\n",
       "0  Nossa empresa oferece serviços de telefonia fi...   \n",
       "1  Para contratar nossos serviços, você pode entr...   \n",
       "2  Temos diversos planos com diferentes franquias...   \n",
       "3  Sim, temos planos especiais para empresas, com...   \n",
       "4  Nossos planos de internet oferecem diferentes ...   \n",
       "\n",
       "                                               Embed  \n",
       "0  [0.14452851, 0.47506136, 0.41753554, 0.4711151...  \n",
       "1  [0.42457744, 0.5177769, 0.44591, 0.24994455, 0...  \n",
       "2  [-0.031586308, -0.73177123, 0.7692423, -0.2273...  \n",
       "3  [-0.0010527153, -0.0926021, 0.49267933, 0.0030...  \n",
       "4  [-0.3037833, 0.21465948, 0.014317498, 0.404929...  "
      ]
     },
     "execution_count": 19,
     "metadata": {},
     "output_type": "execute_result"
    }
   ],
   "source": [
    "df[\"Embed\"] = get_sentence_embeddings(model, df.Question)\n",
    "df.head()"
   ]
  },
  {
   "cell_type": "code",
   "execution_count": 20,
   "metadata": {},
   "outputs": [],
   "source": [
    "df.to_csv(path_or_buf=\"../data/processed/FAQ.csv\", sep=\";\", index=False)"
   ]
  },
  {
   "cell_type": "markdown",
   "metadata": {},
   "source": [
    "## 3.2 Exporting the model with the best performance"
   ]
  },
  {
   "cell_type": "markdown",
   "metadata": {},
   "source": [
    "### 3.2.1 Embeddings model"
   ]
  },
  {
   "cell_type": "code",
   "execution_count": 21,
   "metadata": {},
   "outputs": [],
   "source": [
    "import torch"
   ]
  },
  {
   "cell_type": "code",
   "execution_count": 22,
   "metadata": {},
   "outputs": [],
   "source": [
    "torch.save(embeddings_model.state_dict(), '../models/embeddings_model.pth')"
   ]
  },
  {
   "cell_type": "markdown",
   "metadata": {},
   "source": [
    "### 3.2.2 NLP Model"
   ]
  },
  {
   "cell_type": "code",
   "execution_count": 23,
   "metadata": {},
   "outputs": [],
   "source": [
    "nlp_model.to_disk('../models/nlp_model.tar.gz')"
   ]
  }
 ],
 "metadata": {
  "kernelspec": {
   "display_name": "techlab",
   "language": "python",
   "name": "python3"
  },
  "language_info": {
   "codemirror_mode": {
    "name": "ipython",
    "version": 3
   },
   "file_extension": ".py",
   "mimetype": "text/x-python",
   "name": "python",
   "nbconvert_exporter": "python",
   "pygments_lexer": "ipython3",
   "version": "3.11.4"
  },
  "orig_nbformat": 4
 },
 "nbformat": 4,
 "nbformat_minor": 2
}
