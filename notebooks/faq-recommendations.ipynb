{
 "cells": [
  {
   "cell_type": "markdown",
   "metadata": {},
   "source": [
    "# FAQ recommendations\n",
    "\n",
    "This Jupyter Notebook conducts an evaluation of various approaches to develop an LLM algorithm capable of recommending solutions based on an F.A.Q. database and the conversation context between an agent and a client."
   ]
  },
  {
   "cell_type": "code",
   "execution_count": 2,
   "metadata": {},
   "outputs": [],
   "source": [
    "import pandas as pd\n",
    "import numpy as np\n",
    "import matplotlib.pyplot as plt"
   ]
  },
  {
   "cell_type": "markdown",
   "metadata": {},
   "source": [
    "# 1 handling the data"
   ]
  },
  {
   "cell_type": "markdown",
   "metadata": {},
   "source": [
    "## 1.1.0 Converting F.A.Q from .txt to .csv file"
   ]
  },
  {
   "cell_type": "code",
   "execution_count": 4,
   "metadata": {},
   "outputs": [],
   "source": [
    "def get_questions_and_answers(faq_path: str):\n",
    "    questions = []\n",
    "    answers = []\n",
    "\n",
    "    with open(faq_path, \"r\") as file:\n",
    "        for line in file.readlines():\n",
    "            if \"Pergunta\" in line:\n",
    "                question = line.lstrip(\"Pergunta: \").rstrip(\"\\n\")\n",
    "                questions.append(question)\n",
    "            elif \"Resposta\" in line:\n",
    "                answer = line.lstrip(\"Resposta: \").rstrip(\"\\n\")\n",
    "                answers.append(answer)\n",
    "    \n",
    "    return (questions, answers)\n",
    "\n",
    "\n",
    "def create_csv(questions: list, answers: list, destination_path: str, file_name: str):\n",
    "    faq_dict = {\n",
    "        \"Question\": questions,\n",
    "        \"Answer\": answers\n",
    "        }\n",
    "    \n",
    "    path = destination_path + file_name + \".csv\"\n",
    "\n",
    "    df = pd.DataFrame(data=faq_dict, dtype=object)\n",
    "    df.to_csv(path_or_buf=path, sep=\";\", index=False)"
   ]
  },
  {
   "cell_type": "code",
   "execution_count": 5,
   "metadata": {},
   "outputs": [],
   "source": [
    "questions, answers = get_questions_and_answers(faq_path=\"../data/raw/FAQ_example.txt\")\n",
    "create_csv(questions=questions, answers=answers, destination_path=\"../data/raw/\", file_name=\"FAQ_example\")"
   ]
  },
  {
   "cell_type": "markdown",
   "metadata": {},
   "source": [
    "# 2 Testing LLMs techniques"
   ]
  },
  {
   "cell_type": "markdown",
   "metadata": {},
   "source": [
    "## 2.1 Sentence Embeddings pretrained models"
   ]
  },
  {
   "cell_type": "code",
   "execution_count": 95,
   "metadata": {},
   "outputs": [],
   "source": [
    "from sentence_transformers import SentenceTransformer, util\n",
    "import spacy\n",
    "import re\n",
    "\n",
    "\n",
    "def get_greatest_similarities(model, dataframe, message):\n",
    "    questions_embeddings = model.encode(dataframe.Question)\n",
    "    message_embed = model.encode(get_clean_text(message))\n",
    "\n",
    "    similarities = util.cos_sim(message_embed, questions_embeddings)[0].tolist()\n",
    "    greatest_similarities_index = pd.Series(similarities).sort_values(ascending=False).index\n",
    "    \n",
    "    return greatest_similarities_index\n",
    "\n",
    "\n",
    "def get_clean_text(text:str):\n",
    "    nlp_model = spacy.load(\"pt_core_news_sm\")\n",
    "\n",
    "    text_tokens = nlp_model(text)\n",
    "\n",
    "    clean_text = []\n",
    "\n",
    "    for token in text_tokens:\n",
    "        if not token.is_stop and not token.is_punct:\n",
    "            clean_text.append(token.lemma_)\n",
    "\n",
    "    clean_text = \" \".join(clean_text)\n",
    "\n",
    "    return re.sub(r'[^a-zA-Z\\s]', '', clean_text).lower()"
   ]
  },
  {
   "cell_type": "code",
   "execution_count": 96,
   "metadata": {},
   "outputs": [
    {
     "data": {
      "text/html": [
       "<div>\n",
       "<style scoped>\n",
       "    .dataframe tbody tr th:only-of-type {\n",
       "        vertical-align: middle;\n",
       "    }\n",
       "\n",
       "    .dataframe tbody tr th {\n",
       "        vertical-align: top;\n",
       "    }\n",
       "\n",
       "    .dataframe thead th {\n",
       "        text-align: right;\n",
       "    }\n",
       "</style>\n",
       "<table border=\"1\" class=\"dataframe\">\n",
       "  <thead>\n",
       "    <tr style=\"text-align: right;\">\n",
       "      <th></th>\n",
       "      <th>Question</th>\n",
       "      <th>Answer</th>\n",
       "    </tr>\n",
       "  </thead>\n",
       "  <tbody>\n",
       "    <tr>\n",
       "      <th>0</th>\n",
       "      <td>Quais serviços a empresa de telecomunicações o...</td>\n",
       "      <td>Nossa empresa oferece serviços de telefonia fi...</td>\n",
       "    </tr>\n",
       "    <tr>\n",
       "      <th>1</th>\n",
       "      <td>Como posso contratar os serviços da empresa?</td>\n",
       "      <td>Para contratar nossos serviços, você pode entr...</td>\n",
       "    </tr>\n",
       "    <tr>\n",
       "      <th>2</th>\n",
       "      <td>Quais são os planos disponíveis para a telefon...</td>\n",
       "      <td>Temos diversos planos com diferentes franquias...</td>\n",
       "    </tr>\n",
       "  </tbody>\n",
       "</table>\n",
       "</div>"
      ],
      "text/plain": [
       "                                            Question  \\\n",
       "0  Quais serviços a empresa de telecomunicações o...   \n",
       "1       Como posso contratar os serviços da empresa?   \n",
       "2  Quais são os planos disponíveis para a telefon...   \n",
       "\n",
       "                                              Answer  \n",
       "0  Nossa empresa oferece serviços de telefonia fi...  \n",
       "1  Para contratar nossos serviços, você pode entr...  \n",
       "2  Temos diversos planos com diferentes franquias...  "
      ]
     },
     "execution_count": 96,
     "metadata": {},
     "output_type": "execute_result"
    }
   ],
   "source": [
    "df = pd.read_csv(\"../data/raw/FAQ_example.csv\", sep=\";\")\n",
    "df.head(3)"
   ]
  },
  {
   "cell_type": "code",
   "execution_count": 97,
   "metadata": {},
   "outputs": [
    {
     "name": "stdout",
     "output_type": "stream",
     "text": [
      "noite querer renovar plano\n"
     ]
    }
   ],
   "source": [
    "message = \"Boa noite, Queria como e saber como posso estar renovando meu plano\"\n",
    "message = get_clean_text(message)\n",
    "print(message)"
   ]
  },
  {
   "cell_type": "markdown",
   "metadata": {},
   "source": [
    "### 2.1.1 all-mpnet-base-v2 model"
   ]
  },
  {
   "cell_type": "code",
   "execution_count": 98,
   "metadata": {},
   "outputs": [
    {
     "name": "stdout",
     "output_type": "stream",
     "text": [
      "noite querer renovar plano\n"
     ]
    },
    {
     "data": {
      "text/html": [
       "<div>\n",
       "<style scoped>\n",
       "    .dataframe tbody tr th:only-of-type {\n",
       "        vertical-align: middle;\n",
       "    }\n",
       "\n",
       "    .dataframe tbody tr th {\n",
       "        vertical-align: top;\n",
       "    }\n",
       "\n",
       "    .dataframe thead th {\n",
       "        text-align: right;\n",
       "    }\n",
       "</style>\n",
       "<table border=\"1\" class=\"dataframe\">\n",
       "  <thead>\n",
       "    <tr style=\"text-align: right;\">\n",
       "      <th></th>\n",
       "      <th>Question</th>\n",
       "      <th>Answer</th>\n",
       "    </tr>\n",
       "  </thead>\n",
       "  <tbody>\n",
       "    <tr>\n",
       "      <th>10</th>\n",
       "      <td>É possível fazer upgrade ou downgrade nos plan...</td>\n",
       "      <td>Sim, você pode fazer o upgrade ou downgrade do...</td>\n",
       "    </tr>\n",
       "    <tr>\n",
       "      <th>11</th>\n",
       "      <td>A empresa oferece descontos para pacotes combi...</td>\n",
       "      <td>Sim, oferecemos descontos especiais para clien...</td>\n",
       "    </tr>\n",
       "    <tr>\n",
       "      <th>6</th>\n",
       "      <td>Como posso verificar a cobertura de internet n...</td>\n",
       "      <td>Para verificar a cobertura de internet em sua ...</td>\n",
       "    </tr>\n",
       "    <tr>\n",
       "      <th>9</th>\n",
       "      <td>Como posso efetuar o pagamento da minha fatura?</td>\n",
       "      <td>Aceitamos diversos métodos de pagamento, inclu...</td>\n",
       "    </tr>\n",
       "    <tr>\n",
       "      <th>27</th>\n",
       "      <td>Como posso acompanhar o status de uma solicita...</td>\n",
       "      <td>Você pode acompanhar o status de suas solicita...</td>\n",
       "    </tr>\n",
       "    <tr>\n",
       "      <th>24</th>\n",
       "      <td>Como posso agendar a visita de um técnico para...</td>\n",
       "      <td>Você pode agendar a visita de um técnico entra...</td>\n",
       "    </tr>\n",
       "    <tr>\n",
       "      <th>18</th>\n",
       "      <td>É possível fazer a rescisão dos serviços a qua...</td>\n",
       "      <td>Sim, você pode solicitar a rescisão dos serviç...</td>\n",
       "    </tr>\n",
       "    <tr>\n",
       "      <th>2</th>\n",
       "      <td>Quais são os planos disponíveis para a telefon...</td>\n",
       "      <td>Temos diversos planos com diferentes franquias...</td>\n",
       "    </tr>\n",
       "    <tr>\n",
       "      <th>13</th>\n",
       "      <td>Como posso acompanhar meu consumo de internet ...</td>\n",
       "      <td>Você pode acompanhar seu consumo através do no...</td>\n",
       "    </tr>\n",
       "    <tr>\n",
       "      <th>19</th>\n",
       "      <td>A empresa oferece planos para clientes que uti...</td>\n",
       "      <td>Sim, temos planos com franquias de dados maior...</td>\n",
       "    </tr>\n",
       "  </tbody>\n",
       "</table>\n",
       "</div>"
      ],
      "text/plain": [
       "                                             Question  \\\n",
       "10  É possível fazer upgrade ou downgrade nos plan...   \n",
       "11  A empresa oferece descontos para pacotes combi...   \n",
       "6   Como posso verificar a cobertura de internet n...   \n",
       "9     Como posso efetuar o pagamento da minha fatura?   \n",
       "27  Como posso acompanhar o status de uma solicita...   \n",
       "24  Como posso agendar a visita de um técnico para...   \n",
       "18  É possível fazer a rescisão dos serviços a qua...   \n",
       "2   Quais são os planos disponíveis para a telefon...   \n",
       "13  Como posso acompanhar meu consumo de internet ...   \n",
       "19  A empresa oferece planos para clientes que uti...   \n",
       "\n",
       "                                               Answer  \n",
       "10  Sim, você pode fazer o upgrade ou downgrade do...  \n",
       "11  Sim, oferecemos descontos especiais para clien...  \n",
       "6   Para verificar a cobertura de internet em sua ...  \n",
       "9   Aceitamos diversos métodos de pagamento, inclu...  \n",
       "27  Você pode acompanhar o status de suas solicita...  \n",
       "24  Você pode agendar a visita de um técnico entra...  \n",
       "18  Sim, você pode solicitar a rescisão dos serviç...  \n",
       "2   Temos diversos planos com diferentes franquias...  \n",
       "13  Você pode acompanhar seu consumo através do no...  \n",
       "19  Sim, temos planos com franquias de dados maior...  "
      ]
     },
     "execution_count": 98,
     "metadata": {},
     "output_type": "execute_result"
    }
   ],
   "source": [
    "model = SentenceTransformer(\"all-mpnet-base-v2\")\n",
    "\n",
    "print(message)\n",
    "df.iloc[get_greatest_similarities(model, df, message)].head(10)"
   ]
  },
  {
   "cell_type": "markdown",
   "metadata": {},
   "source": [
    "### 2.1.2 multi-qa-mpnet-base-dot-v1"
   ]
  },
  {
   "cell_type": "code",
   "execution_count": 99,
   "metadata": {},
   "outputs": [
    {
     "name": "stdout",
     "output_type": "stream",
     "text": [
      "noite querer renovar plano\n"
     ]
    },
    {
     "data": {
      "text/html": [
       "<div>\n",
       "<style scoped>\n",
       "    .dataframe tbody tr th:only-of-type {\n",
       "        vertical-align: middle;\n",
       "    }\n",
       "\n",
       "    .dataframe tbody tr th {\n",
       "        vertical-align: top;\n",
       "    }\n",
       "\n",
       "    .dataframe thead th {\n",
       "        text-align: right;\n",
       "    }\n",
       "</style>\n",
       "<table border=\"1\" class=\"dataframe\">\n",
       "  <thead>\n",
       "    <tr style=\"text-align: right;\">\n",
       "      <th></th>\n",
       "      <th>Question</th>\n",
       "      <th>Answer</th>\n",
       "    </tr>\n",
       "  </thead>\n",
       "  <tbody>\n",
       "    <tr>\n",
       "      <th>3</th>\n",
       "      <td>A empresa oferece planos empresariais?</td>\n",
       "      <td>Sim, temos planos especiais para empresas, com...</td>\n",
       "    </tr>\n",
       "    <tr>\n",
       "      <th>10</th>\n",
       "      <td>É possível fazer upgrade ou downgrade nos plan...</td>\n",
       "      <td>Sim, você pode fazer o upgrade ou downgrade do...</td>\n",
       "    </tr>\n",
       "    <tr>\n",
       "      <th>2</th>\n",
       "      <td>Quais são os planos disponíveis para a telefon...</td>\n",
       "      <td>Temos diversos planos com diferentes franquias...</td>\n",
       "    </tr>\n",
       "    <tr>\n",
       "      <th>7</th>\n",
       "      <td>A empresa oferece suporte técnico?</td>\n",
       "      <td>Sim, nossa empresa oferece suporte técnico esp...</td>\n",
       "    </tr>\n",
       "    <tr>\n",
       "      <th>14</th>\n",
       "      <td>A empresa oferece roteadores e equipamentos pa...</td>\n",
       "      <td>Sim, fornecemos equipamentos para internet em ...</td>\n",
       "    </tr>\n",
       "    <tr>\n",
       "      <th>19</th>\n",
       "      <td>A empresa oferece planos para clientes que uti...</td>\n",
       "      <td>Sim, temos planos com franquias de dados maior...</td>\n",
       "    </tr>\n",
       "    <tr>\n",
       "      <th>24</th>\n",
       "      <td>Como posso agendar a visita de um técnico para...</td>\n",
       "      <td>Você pode agendar a visita de um técnico entra...</td>\n",
       "    </tr>\n",
       "    <tr>\n",
       "      <th>9</th>\n",
       "      <td>Como posso efetuar o pagamento da minha fatura?</td>\n",
       "      <td>Aceitamos diversos métodos de pagamento, inclu...</td>\n",
       "    </tr>\n",
       "    <tr>\n",
       "      <th>1</th>\n",
       "      <td>Como posso contratar os serviços da empresa?</td>\n",
       "      <td>Para contratar nossos serviços, você pode entr...</td>\n",
       "    </tr>\n",
       "    <tr>\n",
       "      <th>27</th>\n",
       "      <td>Como posso acompanhar o status de uma solicita...</td>\n",
       "      <td>Você pode acompanhar o status de suas solicita...</td>\n",
       "    </tr>\n",
       "  </tbody>\n",
       "</table>\n",
       "</div>"
      ],
      "text/plain": [
       "                                             Question  \\\n",
       "3              A empresa oferece planos empresariais?   \n",
       "10  É possível fazer upgrade ou downgrade nos plan...   \n",
       "2   Quais são os planos disponíveis para a telefon...   \n",
       "7                  A empresa oferece suporte técnico?   \n",
       "14  A empresa oferece roteadores e equipamentos pa...   \n",
       "19  A empresa oferece planos para clientes que uti...   \n",
       "24  Como posso agendar a visita de um técnico para...   \n",
       "9     Como posso efetuar o pagamento da minha fatura?   \n",
       "1        Como posso contratar os serviços da empresa?   \n",
       "27  Como posso acompanhar o status de uma solicita...   \n",
       "\n",
       "                                               Answer  \n",
       "3   Sim, temos planos especiais para empresas, com...  \n",
       "10  Sim, você pode fazer o upgrade ou downgrade do...  \n",
       "2   Temos diversos planos com diferentes franquias...  \n",
       "7   Sim, nossa empresa oferece suporte técnico esp...  \n",
       "14  Sim, fornecemos equipamentos para internet em ...  \n",
       "19  Sim, temos planos com franquias de dados maior...  \n",
       "24  Você pode agendar a visita de um técnico entra...  \n",
       "9   Aceitamos diversos métodos de pagamento, inclu...  \n",
       "1   Para contratar nossos serviços, você pode entr...  \n",
       "27  Você pode acompanhar o status de suas solicita...  "
      ]
     },
     "execution_count": 99,
     "metadata": {},
     "output_type": "execute_result"
    }
   ],
   "source": [
    "model = SentenceTransformer(\"multi-qa-mpnet-base-dot-v1\")\n",
    "\n",
    "print(message)\n",
    "df.iloc[get_greatest_similarities(model, df, message)].head(10)"
   ]
  },
  {
   "cell_type": "markdown",
   "metadata": {},
   "source": [
    "### 2.1.3 all-distilroberta-v1 model"
   ]
  },
  {
   "cell_type": "code",
   "execution_count": 100,
   "metadata": {},
   "outputs": [
    {
     "name": "stdout",
     "output_type": "stream",
     "text": [
      "noite querer renovar plano\n"
     ]
    },
    {
     "data": {
      "text/html": [
       "<div>\n",
       "<style scoped>\n",
       "    .dataframe tbody tr th:only-of-type {\n",
       "        vertical-align: middle;\n",
       "    }\n",
       "\n",
       "    .dataframe tbody tr th {\n",
       "        vertical-align: top;\n",
       "    }\n",
       "\n",
       "    .dataframe thead th {\n",
       "        text-align: right;\n",
       "    }\n",
       "</style>\n",
       "<table border=\"1\" class=\"dataframe\">\n",
       "  <thead>\n",
       "    <tr style=\"text-align: right;\">\n",
       "      <th></th>\n",
       "      <th>Question</th>\n",
       "      <th>Answer</th>\n",
       "    </tr>\n",
       "  </thead>\n",
       "  <tbody>\n",
       "    <tr>\n",
       "      <th>3</th>\n",
       "      <td>A empresa oferece planos empresariais?</td>\n",
       "      <td>Sim, temos planos especiais para empresas, com...</td>\n",
       "    </tr>\n",
       "    <tr>\n",
       "      <th>10</th>\n",
       "      <td>É possível fazer upgrade ou downgrade nos plan...</td>\n",
       "      <td>Sim, você pode fazer o upgrade ou downgrade do...</td>\n",
       "    </tr>\n",
       "    <tr>\n",
       "      <th>7</th>\n",
       "      <td>A empresa oferece suporte técnico?</td>\n",
       "      <td>Sim, nossa empresa oferece suporte técnico esp...</td>\n",
       "    </tr>\n",
       "    <tr>\n",
       "      <th>19</th>\n",
       "      <td>A empresa oferece planos para clientes que uti...</td>\n",
       "      <td>Sim, temos planos com franquias de dados maior...</td>\n",
       "    </tr>\n",
       "    <tr>\n",
       "      <th>11</th>\n",
       "      <td>A empresa oferece descontos para pacotes combi...</td>\n",
       "      <td>Sim, oferecemos descontos especiais para clien...</td>\n",
       "    </tr>\n",
       "    <tr>\n",
       "      <th>2</th>\n",
       "      <td>Quais são os planos disponíveis para a telefon...</td>\n",
       "      <td>Temos diversos planos com diferentes franquias...</td>\n",
       "    </tr>\n",
       "    <tr>\n",
       "      <th>9</th>\n",
       "      <td>Como posso efetuar o pagamento da minha fatura?</td>\n",
       "      <td>Aceitamos diversos métodos de pagamento, inclu...</td>\n",
       "    </tr>\n",
       "    <tr>\n",
       "      <th>6</th>\n",
       "      <td>Como posso verificar a cobertura de internet n...</td>\n",
       "      <td>Para verificar a cobertura de internet em sua ...</td>\n",
       "    </tr>\n",
       "    <tr>\n",
       "      <th>23</th>\n",
       "      <td>A empresa oferece serviço de fibra óptica?</td>\n",
       "      <td>Sim, nossa empresa oferece serviço de internet...</td>\n",
       "    </tr>\n",
       "    <tr>\n",
       "      <th>18</th>\n",
       "      <td>É possível fazer a rescisão dos serviços a qua...</td>\n",
       "      <td>Sim, você pode solicitar a rescisão dos serviç...</td>\n",
       "    </tr>\n",
       "  </tbody>\n",
       "</table>\n",
       "</div>"
      ],
      "text/plain": [
       "                                             Question  \\\n",
       "3              A empresa oferece planos empresariais?   \n",
       "10  É possível fazer upgrade ou downgrade nos plan...   \n",
       "7                  A empresa oferece suporte técnico?   \n",
       "19  A empresa oferece planos para clientes que uti...   \n",
       "11  A empresa oferece descontos para pacotes combi...   \n",
       "2   Quais são os planos disponíveis para a telefon...   \n",
       "9     Como posso efetuar o pagamento da minha fatura?   \n",
       "6   Como posso verificar a cobertura de internet n...   \n",
       "23         A empresa oferece serviço de fibra óptica?   \n",
       "18  É possível fazer a rescisão dos serviços a qua...   \n",
       "\n",
       "                                               Answer  \n",
       "3   Sim, temos planos especiais para empresas, com...  \n",
       "10  Sim, você pode fazer o upgrade ou downgrade do...  \n",
       "7   Sim, nossa empresa oferece suporte técnico esp...  \n",
       "19  Sim, temos planos com franquias de dados maior...  \n",
       "11  Sim, oferecemos descontos especiais para clien...  \n",
       "2   Temos diversos planos com diferentes franquias...  \n",
       "9   Aceitamos diversos métodos de pagamento, inclu...  \n",
       "6   Para verificar a cobertura de internet em sua ...  \n",
       "23  Sim, nossa empresa oferece serviço de internet...  \n",
       "18  Sim, você pode solicitar a rescisão dos serviç...  "
      ]
     },
     "execution_count": 100,
     "metadata": {},
     "output_type": "execute_result"
    }
   ],
   "source": [
    "model = SentenceTransformer(\"all-distilroberta-v1\")\n",
    "\n",
    "print(message)\n",
    "df.iloc[get_greatest_similarities(model, df, message)].head(10)"
   ]
  },
  {
   "cell_type": "markdown",
   "metadata": {},
   "source": [
    "### 2.1.4 all-MiniLM-L6-v2 model"
   ]
  },
  {
   "cell_type": "code",
   "execution_count": 101,
   "metadata": {},
   "outputs": [
    {
     "name": "stdout",
     "output_type": "stream",
     "text": [
      "noite querer renovar plano\n"
     ]
    },
    {
     "data": {
      "text/html": [
       "<div>\n",
       "<style scoped>\n",
       "    .dataframe tbody tr th:only-of-type {\n",
       "        vertical-align: middle;\n",
       "    }\n",
       "\n",
       "    .dataframe tbody tr th {\n",
       "        vertical-align: top;\n",
       "    }\n",
       "\n",
       "    .dataframe thead th {\n",
       "        text-align: right;\n",
       "    }\n",
       "</style>\n",
       "<table border=\"1\" class=\"dataframe\">\n",
       "  <thead>\n",
       "    <tr style=\"text-align: right;\">\n",
       "      <th></th>\n",
       "      <th>Question</th>\n",
       "      <th>Answer</th>\n",
       "    </tr>\n",
       "  </thead>\n",
       "  <tbody>\n",
       "    <tr>\n",
       "      <th>7</th>\n",
       "      <td>A empresa oferece suporte técnico?</td>\n",
       "      <td>Sim, nossa empresa oferece suporte técnico esp...</td>\n",
       "    </tr>\n",
       "    <tr>\n",
       "      <th>2</th>\n",
       "      <td>Quais são os planos disponíveis para a telefon...</td>\n",
       "      <td>Temos diversos planos com diferentes franquias...</td>\n",
       "    </tr>\n",
       "    <tr>\n",
       "      <th>10</th>\n",
       "      <td>É possível fazer upgrade ou downgrade nos plan...</td>\n",
       "      <td>Sim, você pode fazer o upgrade ou downgrade do...</td>\n",
       "    </tr>\n",
       "    <tr>\n",
       "      <th>5</th>\n",
       "      <td>É possível fazer a portabilidade do meu número...</td>\n",
       "      <td>Sim, é possível fazer a portabilidade do seu n...</td>\n",
       "    </tr>\n",
       "    <tr>\n",
       "      <th>11</th>\n",
       "      <td>A empresa oferece descontos para pacotes combi...</td>\n",
       "      <td>Sim, oferecemos descontos especiais para clien...</td>\n",
       "    </tr>\n",
       "    <tr>\n",
       "      <th>19</th>\n",
       "      <td>A empresa oferece planos para clientes que uti...</td>\n",
       "      <td>Sim, temos planos com franquias de dados maior...</td>\n",
       "    </tr>\n",
       "    <tr>\n",
       "      <th>18</th>\n",
       "      <td>É possível fazer a rescisão dos serviços a qua...</td>\n",
       "      <td>Sim, você pode solicitar a rescisão dos serviç...</td>\n",
       "    </tr>\n",
       "    <tr>\n",
       "      <th>6</th>\n",
       "      <td>Como posso verificar a cobertura de internet n...</td>\n",
       "      <td>Para verificar a cobertura de internet em sua ...</td>\n",
       "    </tr>\n",
       "    <tr>\n",
       "      <th>17</th>\n",
       "      <td>Como posso solicitar a mudança de endereço dos...</td>\n",
       "      <td>Entre em contato com nosso atendimento para so...</td>\n",
       "    </tr>\n",
       "    <tr>\n",
       "      <th>24</th>\n",
       "      <td>Como posso agendar a visita de um técnico para...</td>\n",
       "      <td>Você pode agendar a visita de um técnico entra...</td>\n",
       "    </tr>\n",
       "  </tbody>\n",
       "</table>\n",
       "</div>"
      ],
      "text/plain": [
       "                                             Question  \\\n",
       "7                  A empresa oferece suporte técnico?   \n",
       "2   Quais são os planos disponíveis para a telefon...   \n",
       "10  É possível fazer upgrade ou downgrade nos plan...   \n",
       "5   É possível fazer a portabilidade do meu número...   \n",
       "11  A empresa oferece descontos para pacotes combi...   \n",
       "19  A empresa oferece planos para clientes que uti...   \n",
       "18  É possível fazer a rescisão dos serviços a qua...   \n",
       "6   Como posso verificar a cobertura de internet n...   \n",
       "17  Como posso solicitar a mudança de endereço dos...   \n",
       "24  Como posso agendar a visita de um técnico para...   \n",
       "\n",
       "                                               Answer  \n",
       "7   Sim, nossa empresa oferece suporte técnico esp...  \n",
       "2   Temos diversos planos com diferentes franquias...  \n",
       "10  Sim, você pode fazer o upgrade ou downgrade do...  \n",
       "5   Sim, é possível fazer a portabilidade do seu n...  \n",
       "11  Sim, oferecemos descontos especiais para clien...  \n",
       "19  Sim, temos planos com franquias de dados maior...  \n",
       "18  Sim, você pode solicitar a rescisão dos serviç...  \n",
       "6   Para verificar a cobertura de internet em sua ...  \n",
       "17  Entre em contato com nosso atendimento para so...  \n",
       "24  Você pode agendar a visita de um técnico entra...  "
      ]
     },
     "execution_count": 101,
     "metadata": {},
     "output_type": "execute_result"
    }
   ],
   "source": [
    "model = SentenceTransformer(\"all-MiniLM-L6-v2\")\n",
    "\n",
    "print(message)\n",
    "df.iloc[get_greatest_similarities(model, df, message)].head(10)"
   ]
  },
  {
   "cell_type": "markdown",
   "metadata": {},
   "source": [
    "### 2.1.5 multi-qa-MiniLM-L6-cos-v1"
   ]
  },
  {
   "cell_type": "code",
   "execution_count": 102,
   "metadata": {},
   "outputs": [
    {
     "name": "stdout",
     "output_type": "stream",
     "text": [
      "noite querer renovar plano\n"
     ]
    },
    {
     "data": {
      "text/html": [
       "<div>\n",
       "<style scoped>\n",
       "    .dataframe tbody tr th:only-of-type {\n",
       "        vertical-align: middle;\n",
       "    }\n",
       "\n",
       "    .dataframe tbody tr th {\n",
       "        vertical-align: top;\n",
       "    }\n",
       "\n",
       "    .dataframe thead th {\n",
       "        text-align: right;\n",
       "    }\n",
       "</style>\n",
       "<table border=\"1\" class=\"dataframe\">\n",
       "  <thead>\n",
       "    <tr style=\"text-align: right;\">\n",
       "      <th></th>\n",
       "      <th>Question</th>\n",
       "      <th>Answer</th>\n",
       "    </tr>\n",
       "  </thead>\n",
       "  <tbody>\n",
       "    <tr>\n",
       "      <th>19</th>\n",
       "      <td>A empresa oferece planos para clientes que uti...</td>\n",
       "      <td>Sim, temos planos com franquias de dados maior...</td>\n",
       "    </tr>\n",
       "    <tr>\n",
       "      <th>10</th>\n",
       "      <td>É possível fazer upgrade ou downgrade nos plan...</td>\n",
       "      <td>Sim, você pode fazer o upgrade ou downgrade do...</td>\n",
       "    </tr>\n",
       "    <tr>\n",
       "      <th>2</th>\n",
       "      <td>Quais são os planos disponíveis para a telefon...</td>\n",
       "      <td>Temos diversos planos com diferentes franquias...</td>\n",
       "    </tr>\n",
       "    <tr>\n",
       "      <th>7</th>\n",
       "      <td>A empresa oferece suporte técnico?</td>\n",
       "      <td>Sim, nossa empresa oferece suporte técnico esp...</td>\n",
       "    </tr>\n",
       "    <tr>\n",
       "      <th>27</th>\n",
       "      <td>Como posso acompanhar o status de uma solicita...</td>\n",
       "      <td>Você pode acompanhar o status de suas solicita...</td>\n",
       "    </tr>\n",
       "    <tr>\n",
       "      <th>3</th>\n",
       "      <td>A empresa oferece planos empresariais?</td>\n",
       "      <td>Sim, temos planos especiais para empresas, com...</td>\n",
       "    </tr>\n",
       "    <tr>\n",
       "      <th>17</th>\n",
       "      <td>Como posso solicitar a mudança de endereço dos...</td>\n",
       "      <td>Entre em contato com nosso atendimento para so...</td>\n",
       "    </tr>\n",
       "    <tr>\n",
       "      <th>24</th>\n",
       "      <td>Como posso agendar a visita de um técnico para...</td>\n",
       "      <td>Você pode agendar a visita de um técnico entra...</td>\n",
       "    </tr>\n",
       "    <tr>\n",
       "      <th>22</th>\n",
       "      <td>É possível obter um número de telefone fixo em...</td>\n",
       "      <td>Sim, você pode contratar um número de telefone...</td>\n",
       "    </tr>\n",
       "    <tr>\n",
       "      <th>6</th>\n",
       "      <td>Como posso verificar a cobertura de internet n...</td>\n",
       "      <td>Para verificar a cobertura de internet em sua ...</td>\n",
       "    </tr>\n",
       "  </tbody>\n",
       "</table>\n",
       "</div>"
      ],
      "text/plain": [
       "                                             Question  \\\n",
       "19  A empresa oferece planos para clientes que uti...   \n",
       "10  É possível fazer upgrade ou downgrade nos plan...   \n",
       "2   Quais são os planos disponíveis para a telefon...   \n",
       "7                  A empresa oferece suporte técnico?   \n",
       "27  Como posso acompanhar o status de uma solicita...   \n",
       "3              A empresa oferece planos empresariais?   \n",
       "17  Como posso solicitar a mudança de endereço dos...   \n",
       "24  Como posso agendar a visita de um técnico para...   \n",
       "22  É possível obter um número de telefone fixo em...   \n",
       "6   Como posso verificar a cobertura de internet n...   \n",
       "\n",
       "                                               Answer  \n",
       "19  Sim, temos planos com franquias de dados maior...  \n",
       "10  Sim, você pode fazer o upgrade ou downgrade do...  \n",
       "2   Temos diversos planos com diferentes franquias...  \n",
       "7   Sim, nossa empresa oferece suporte técnico esp...  \n",
       "27  Você pode acompanhar o status de suas solicita...  \n",
       "3   Sim, temos planos especiais para empresas, com...  \n",
       "17  Entre em contato com nosso atendimento para so...  \n",
       "24  Você pode agendar a visita de um técnico entra...  \n",
       "22  Sim, você pode contratar um número de telefone...  \n",
       "6   Para verificar a cobertura de internet em sua ...  "
      ]
     },
     "execution_count": 102,
     "metadata": {},
     "output_type": "execute_result"
    }
   ],
   "source": [
    "model = SentenceTransformer(\"multi-qa-MiniLM-L6-cos-v1\")\n",
    "\n",
    "print(message)\n",
    "df.iloc[get_greatest_similarities(model, df, message)].head(10)"
   ]
  },
  {
   "cell_type": "markdown",
   "metadata": {},
   "source": [
    "### 2.1.6 msmarco-distilbert-base-v4"
   ]
  },
  {
   "cell_type": "code",
   "execution_count": 103,
   "metadata": {},
   "outputs": [
    {
     "name": "stdout",
     "output_type": "stream",
     "text": [
      "noite querer renovar plano\n"
     ]
    },
    {
     "data": {
      "text/html": [
       "<div>\n",
       "<style scoped>\n",
       "    .dataframe tbody tr th:only-of-type {\n",
       "        vertical-align: middle;\n",
       "    }\n",
       "\n",
       "    .dataframe tbody tr th {\n",
       "        vertical-align: top;\n",
       "    }\n",
       "\n",
       "    .dataframe thead th {\n",
       "        text-align: right;\n",
       "    }\n",
       "</style>\n",
       "<table border=\"1\" class=\"dataframe\">\n",
       "  <thead>\n",
       "    <tr style=\"text-align: right;\">\n",
       "      <th></th>\n",
       "      <th>Question</th>\n",
       "      <th>Answer</th>\n",
       "    </tr>\n",
       "  </thead>\n",
       "  <tbody>\n",
       "    <tr>\n",
       "      <th>10</th>\n",
       "      <td>É possível fazer upgrade ou downgrade nos plan...</td>\n",
       "      <td>Sim, você pode fazer o upgrade ou downgrade do...</td>\n",
       "    </tr>\n",
       "    <tr>\n",
       "      <th>3</th>\n",
       "      <td>A empresa oferece planos empresariais?</td>\n",
       "      <td>Sim, temos planos especiais para empresas, com...</td>\n",
       "    </tr>\n",
       "    <tr>\n",
       "      <th>11</th>\n",
       "      <td>A empresa oferece descontos para pacotes combi...</td>\n",
       "      <td>Sim, oferecemos descontos especiais para clien...</td>\n",
       "    </tr>\n",
       "    <tr>\n",
       "      <th>1</th>\n",
       "      <td>Como posso contratar os serviços da empresa?</td>\n",
       "      <td>Para contratar nossos serviços, você pode entr...</td>\n",
       "    </tr>\n",
       "    <tr>\n",
       "      <th>27</th>\n",
       "      <td>Como posso acompanhar o status de uma solicita...</td>\n",
       "      <td>Você pode acompanhar o status de suas solicita...</td>\n",
       "    </tr>\n",
       "    <tr>\n",
       "      <th>0</th>\n",
       "      <td>Quais serviços a empresa de telecomunicações o...</td>\n",
       "      <td>Nossa empresa oferece serviços de telefonia fi...</td>\n",
       "    </tr>\n",
       "    <tr>\n",
       "      <th>7</th>\n",
       "      <td>A empresa oferece suporte técnico?</td>\n",
       "      <td>Sim, nossa empresa oferece suporte técnico esp...</td>\n",
       "    </tr>\n",
       "    <tr>\n",
       "      <th>26</th>\n",
       "      <td>A empresa oferece serviços de telefonia VoIP?</td>\n",
       "      <td>Sim, oferecemos serviços de telefonia VoIP par...</td>\n",
       "    </tr>\n",
       "    <tr>\n",
       "      <th>19</th>\n",
       "      <td>A empresa oferece planos para clientes que uti...</td>\n",
       "      <td>Sim, temos planos com franquias de dados maior...</td>\n",
       "    </tr>\n",
       "    <tr>\n",
       "      <th>18</th>\n",
       "      <td>É possível fazer a rescisão dos serviços a qua...</td>\n",
       "      <td>Sim, você pode solicitar a rescisão dos serviç...</td>\n",
       "    </tr>\n",
       "  </tbody>\n",
       "</table>\n",
       "</div>"
      ],
      "text/plain": [
       "                                             Question  \\\n",
       "10  É possível fazer upgrade ou downgrade nos plan...   \n",
       "3              A empresa oferece planos empresariais?   \n",
       "11  A empresa oferece descontos para pacotes combi...   \n",
       "1        Como posso contratar os serviços da empresa?   \n",
       "27  Como posso acompanhar o status de uma solicita...   \n",
       "0   Quais serviços a empresa de telecomunicações o...   \n",
       "7                  A empresa oferece suporte técnico?   \n",
       "26      A empresa oferece serviços de telefonia VoIP?   \n",
       "19  A empresa oferece planos para clientes que uti...   \n",
       "18  É possível fazer a rescisão dos serviços a qua...   \n",
       "\n",
       "                                               Answer  \n",
       "10  Sim, você pode fazer o upgrade ou downgrade do...  \n",
       "3   Sim, temos planos especiais para empresas, com...  \n",
       "11  Sim, oferecemos descontos especiais para clien...  \n",
       "1   Para contratar nossos serviços, você pode entr...  \n",
       "27  Você pode acompanhar o status de suas solicita...  \n",
       "0   Nossa empresa oferece serviços de telefonia fi...  \n",
       "7   Sim, nossa empresa oferece suporte técnico esp...  \n",
       "26  Sim, oferecemos serviços de telefonia VoIP par...  \n",
       "19  Sim, temos planos com franquias de dados maior...  \n",
       "18  Sim, você pode solicitar a rescisão dos serviç...  "
      ]
     },
     "execution_count": 103,
     "metadata": {},
     "output_type": "execute_result"
    }
   ],
   "source": [
    "model = SentenceTransformer(\"msmarco-distilbert-base-v4\")\n",
    "\n",
    "print(message)\n",
    "df.iloc[get_greatest_similarities(model, df, message)].head(10)"
   ]
  },
  {
   "cell_type": "markdown",
   "metadata": {},
   "source": [
    "# 3 Preparing to Deploy"
   ]
  },
  {
   "cell_type": "code",
   "execution_count": 104,
   "metadata": {},
   "outputs": [],
   "source": [
    "embeddings_model = SentenceTransformer(\"msmarco-distilbert-base-v4\")\n",
    "nlp_model = spacy.load(\"pt_core_news_sm\")"
   ]
  },
  {
   "cell_type": "code",
   "execution_count": 105,
   "metadata": {},
   "outputs": [
    {
     "data": {
      "text/html": [
       "<div>\n",
       "<style scoped>\n",
       "    .dataframe tbody tr th:only-of-type {\n",
       "        vertical-align: middle;\n",
       "    }\n",
       "\n",
       "    .dataframe tbody tr th {\n",
       "        vertical-align: top;\n",
       "    }\n",
       "\n",
       "    .dataframe thead th {\n",
       "        text-align: right;\n",
       "    }\n",
       "</style>\n",
       "<table border=\"1\" class=\"dataframe\">\n",
       "  <thead>\n",
       "    <tr style=\"text-align: right;\">\n",
       "      <th></th>\n",
       "      <th>Question</th>\n",
       "      <th>Answer</th>\n",
       "    </tr>\n",
       "  </thead>\n",
       "  <tbody>\n",
       "    <tr>\n",
       "      <th>0</th>\n",
       "      <td>Quais serviços a empresa de telecomunicações o...</td>\n",
       "      <td>Nossa empresa oferece serviços de telefonia fi...</td>\n",
       "    </tr>\n",
       "    <tr>\n",
       "      <th>1</th>\n",
       "      <td>Como posso contratar os serviços da empresa?</td>\n",
       "      <td>Para contratar nossos serviços, você pode entr...</td>\n",
       "    </tr>\n",
       "    <tr>\n",
       "      <th>2</th>\n",
       "      <td>Quais são os planos disponíveis para a telefon...</td>\n",
       "      <td>Temos diversos planos com diferentes franquias...</td>\n",
       "    </tr>\n",
       "  </tbody>\n",
       "</table>\n",
       "</div>"
      ],
      "text/plain": [
       "                                            Question  \\\n",
       "0  Quais serviços a empresa de telecomunicações o...   \n",
       "1       Como posso contratar os serviços da empresa?   \n",
       "2  Quais são os planos disponíveis para a telefon...   \n",
       "\n",
       "                                              Answer  \n",
       "0  Nossa empresa oferece serviços de telefonia fi...  \n",
       "1  Para contratar nossos serviços, você pode entr...  \n",
       "2  Temos diversos planos com diferentes franquias...  "
      ]
     },
     "execution_count": 105,
     "metadata": {},
     "output_type": "execute_result"
    }
   ],
   "source": [
    "df = pd.read_csv(\"../data/raw/FAQ_example.csv\", sep=\";\")\n",
    "df.head(3)"
   ]
  },
  {
   "cell_type": "markdown",
   "metadata": {},
   "source": [
    "## 3.1 Preparing Data"
   ]
  },
  {
   "cell_type": "markdown",
   "metadata": {},
   "source": [
    "### 3.1.1 Creating Embeddings for each question and exporting as CSV file"
   ]
  },
  {
   "cell_type": "code",
   "execution_count": 106,
   "metadata": {},
   "outputs": [],
   "source": [
    "def get_sentence_embeddings(model, series):\n",
    "    \"\"\"This function removes all 'stop words' for each sentence in a pandas.Series\n",
    "    and then creates a embed for the sentence without the stop words.\"\"\"\n",
    "\n",
    "    text_embeddings = []\n",
    "\n",
    "    for text in series:\n",
    "        embed = model.encode(get_clean_text(text))\n",
    "        text_embeddings.append(embed)\n",
    "\n",
    "    return pd.Series(text_embeddings)"
   ]
  },
  {
   "cell_type": "code",
   "execution_count": 107,
   "metadata": {},
   "outputs": [
    {
     "data": {
      "text/plain": [
       "0    [0.16819185, 0.3711736, 0.11665192, 0.2539829,...\n",
       "1    [0.52291733, 0.4691461, 0.023879822, 0.1911685...\n",
       "2    [0.0087399455, -0.80580616, 1.0987761, 0.10045...\n",
       "3    [-0.18636833, 0.061203647, 0.5096733, 0.349444...\n",
       "4    [0.038230505, 0.17145498, -0.13606334, 0.31368...\n",
       "dtype: object"
      ]
     },
     "execution_count": 107,
     "metadata": {},
     "output_type": "execute_result"
    }
   ],
   "source": [
    "df_embeddings = get_sentence_embeddings(model, df.Question)\n",
    "df_embeddings.head()"
   ]
  },
  {
   "cell_type": "code",
   "execution_count": 108,
   "metadata": {},
   "outputs": [],
   "source": [
    "df_embeddings.to_csv(path_or_buf=\"../data/processed/Embeddings.csv\", sep=\";\", index=False)"
   ]
  },
  {
   "cell_type": "markdown",
   "metadata": {},
   "source": [
    "## 3.2 Exporting the model with the best performance"
   ]
  },
  {
   "cell_type": "markdown",
   "metadata": {},
   "source": [
    "### 3.2.1 Embeddings model"
   ]
  },
  {
   "cell_type": "code",
   "execution_count": 109,
   "metadata": {},
   "outputs": [],
   "source": [
    "embeddings_model.save('../models/embed_model')"
   ]
  },
  {
   "cell_type": "markdown",
   "metadata": {},
   "source": [
    "### 3.2.2 NLP Model"
   ]
  },
  {
   "cell_type": "code",
   "execution_count": 110,
   "metadata": {},
   "outputs": [],
   "source": [
    "nlp_model.to_disk('../models/nlp_model')"
   ]
  }
 ],
 "metadata": {
  "kernelspec": {
   "display_name": "techlab",
   "language": "python",
   "name": "python3"
  },
  "language_info": {
   "codemirror_mode": {
    "name": "ipython",
    "version": 3
   },
   "file_extension": ".py",
   "mimetype": "text/x-python",
   "name": "python",
   "nbconvert_exporter": "python",
   "pygments_lexer": "ipython3",
   "version": "3.11.4"
  },
  "orig_nbformat": 4
 },
 "nbformat": 4,
 "nbformat_minor": 2
}
