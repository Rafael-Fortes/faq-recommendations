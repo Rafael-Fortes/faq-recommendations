{
 "cells": [
  {
   "cell_type": "markdown",
   "metadata": {},
   "source": [
    "# FAQ recommendations\n",
    "\n",
    "This Jupyter Notebook conducts an evaluation of various approaches to develop an LLM algorithm\n",
    "capable of recommending solutions based on an F.A.Q. database and the conversation context between an agent and a client."
   ]
  },
  {
   "cell_type": "code",
   "execution_count": 1,
   "metadata": {},
   "outputs": [],
   "source": [
    "import pandas as pd\n",
    "import numpy as np\n",
    "import matplotlib.pyplot as plt"
   ]
  },
  {
   "cell_type": "markdown",
   "metadata": {},
   "source": [
    "# 1 handling the data"
   ]
  },
  {
   "cell_type": "markdown",
   "metadata": {},
   "source": [
    "## 1.1.0 Converting F.A.Q from .txt to .csv file"
   ]
  },
  {
   "cell_type": "code",
   "execution_count": 8,
   "metadata": {},
   "outputs": [],
   "source": [
    "def get_questions_and_answers(faq_path: str):\n",
    "    questions = []\n",
    "    answers = []\n",
    "\n",
    "    with open(faq_path, \"r\") as file:\n",
    "        for line in file.readlines():\n",
    "            if \"Pergunta\" in line:\n",
    "                question = line.lstrip(\"Pergunta: \").rstrip(\"\\n\")\n",
    "                questions.append(question)\n",
    "            elif \"Resposta\" in line:\n",
    "                answer = line.lstrip(\"Resposta: \").rstrip(\"\\n\")\n",
    "                answers.append(answer)\n",
    "    \n",
    "    return (questions, answers)\n",
    "\n",
    "\n",
    "def create_csv(questions: list, answers: list, destination_path: str, file_name: str):\n",
    "    faq_dict = {\n",
    "        \"Question\": questions,\n",
    "        \"Answer\": answers\n",
    "        }\n",
    "    \n",
    "    path = destination_path + file_name + \".csv\"\n",
    "\n",
    "    df = pd.DataFrame(data=faq_dict, dtype=object)\n",
    "    df.to_csv(path_or_buf=path, sep=\";\", index=False)"
   ]
  },
  {
   "cell_type": "code",
   "execution_count": 9,
   "metadata": {},
   "outputs": [],
   "source": [
    "questions, answers = get_questions_and_answers(faq_path=\"../data/raw/FAQ_example.txt\")\n",
    "create_csv(questions=questions, answers=answers, destination_path=\"../data/raw/\", file_name=\"FAQ_example\")"
   ]
  },
  {
   "cell_type": "code",
   "execution_count": null,
   "metadata": {},
   "outputs": [],
   "source": []
  }
 ],
 "metadata": {
  "kernelspec": {
   "display_name": "techlab",
   "language": "python",
   "name": "python3"
  },
  "language_info": {
   "codemirror_mode": {
    "name": "ipython",
    "version": 3
   },
   "file_extension": ".py",
   "mimetype": "text/x-python",
   "name": "python",
   "nbconvert_exporter": "python",
   "pygments_lexer": "ipython3",
   "version": "3.11.4"
  },
  "orig_nbformat": 4
 },
 "nbformat": 4,
 "nbformat_minor": 2
}
